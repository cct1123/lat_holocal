{
 "cells": [
  {
   "cell_type": "code",
   "execution_count": null,
   "metadata": {},
   "outputs": [],
   "source": [
    "%pylab inline\n",
    "from numba import jit"
   ]
  },
  {
   "cell_type": "code",
   "execution_count": null,
   "metadata": {},
   "outputs": [],
   "source": [
    "def fake_root_finder(func, a, b, arg):\n",
    "    return (func(a, *arg) + func(b, *arg)) / 2\n",
    "\n",
    "def root(t, u, v):\n",
    "    func = t**3*(np.sin(t))**2+u*v\n",
    "    return func\n",
    "\n",
    "def find_root_loop(iter):\n",
    "    for i in range(iter):\n",
    "        r = np.random.random()\n",
    "        fake_root_finder(root, -2.2, 5, arg=(r, 1))"
   ]
  },
  {
   "cell_type": "code",
   "execution_count": null,
   "metadata": {},
   "outputs": [],
   "source": [
    "%time find_root_loop(1000000)"
   ]
  },
  {
   "cell_type": "code",
   "execution_count": null,
   "metadata": {},
   "outputs": [],
   "source": [
    "@jit(nopython=True)\n",
    "def fake_root_finder_jited(func, a, b, arg):\n",
    "    return (func(a, *arg) + func(b, *arg)) / 2\n",
    "\n",
    "@jit(nopython=True)\n",
    "def root(t, u, v):\n",
    "    func = t**3*(np.sin(t))**2+u*v\n",
    "    return func\n",
    "\n",
    "@jit(nopython=True)\n",
    "def find_root_loop_jited(iter):\n",
    "    for i in range(iter):\n",
    "        r = np.random.random()\n",
    "        fake_root_finder_jited(root, -2.2, 5, arg=(r, 1))"
   ]
  },
  {
   "cell_type": "code",
   "execution_count": null,
   "metadata": {},
   "outputs": [],
   "source": [
    "%%time \n",
    "find_root_loop_jited(1000000)"
   ]
  },
  {
   "cell_type": "code",
   "execution_count": null,
   "metadata": {},
   "outputs": [],
   "source": [
    "%time find_root_loop(1000000)\n",
    "%time find_root_loop_jited(1000000)"
   ]
  },
  {
   "cell_type": "code",
   "execution_count": null,
   "metadata": {},
   "outputs": [],
   "source": [
    "import numpy as np\n",
    "import numba as nb\n",
    "from numba import jit\n",
    "\n",
    "def bisection(func, a, b, tol=1e-12, iter_nmax=100):\n",
    "    fa = func(a)\n",
    "    fb = func(b)\n",
    "    if fa*fb >= 0: \n",
    "        raise ValueError(\"The root is not bracketed since f(a) and f(b) have the same sign.\")\n",
    "    if np.abs(fa)<np.abs(fb):\n",
    "        temp = a\n",
    "        a = b\n",
    "        b = temp\n",
    "\n",
    "    iter_n = 0\n",
    "    while iter_n < iter_nmax:\n",
    "        c = (a + b) / 2\n",
    "        fc = func(c)\n",
    "        if func(c) == 0 or (b-a)/2 < tol:\n",
    "            # root found\n",
    "            return c\n",
    "        iter_n += 1\n",
    "\n",
    "        if fc*fa:\n",
    "            a = c\n",
    "        else:\n",
    "            b = c\n",
    "    else:\n",
    "        raise Exception(\"Root non-found. Exceeded max. number of iteration.\")\n",
    "\n",
    "bisection_jited = jit(nopython=True)(bisection)"
   ]
  },
  {
   "cell_type": "code",
   "execution_count": null,
   "metadata": {},
   "outputs": [],
   "source": [
    "from time import time\n",
    "def root(t):\n",
    "    func = t**3*(np.sin(t))**2+1\n",
    "    return func\n",
    "root_jited = jit(nopython=True)(root)\n",
    "\n",
    "loop_num = 100000\n",
    "def loop_bisection(arg):\n",
    "    result = 0\n",
    "    for i in range(loop_num):\n",
    "        rn = np.random.random()\n",
    "        result += arg*rn*bisection(root, -2.2, 5)\n",
    "@jit(nopython=True, parallel=True)\n",
    "def loop_bisection_jited(arg):\n",
    "    result = 0\n",
    "    for i in nb.prange(loop_num):\n",
    "        rn = np.random.random()\n",
    "        result += arg*rn*bisection_jited(root_jited, -2.2, 5)"
   ]
  },
  {
   "cell_type": "code",
   "execution_count": null,
   "metadata": {},
   "outputs": [],
   "source": [
    "%%time\n",
    "loop_bisection(10)\n"
   ]
  },
  {
   "cell_type": "code",
   "execution_count": null,
   "metadata": {},
   "outputs": [],
   "source": [
    "%%time\n",
    "loop_bisection_jited(89)"
   ]
  },
  {
   "cell_type": "code",
   "execution_count": null,
   "metadata": {},
   "outputs": [],
   "source": [
    "import numpy as np\n",
    "import numba as nb\n",
    "from numba import jit\n",
    "from root_finder import bisection_arg, brentq\n",
    "\n",
    "@jit(nopython=True, fastmath=True)\n",
    "def root(t, u, v) -> float:\n",
    "    func = t**3*(np.sin(t))**2 +u*v\n",
    "    return func\n",
    "\n",
    "def find_root_loop(iter):\n",
    "    result = 0\n",
    "    for i in nb.prange(iter):\n",
    "        r = np.random.random()\n",
    "        result += bisection_arg(root, -2.2, 5, (1.0, 1.0))\n",
    "    return result/iter\n",
    "\n",
    "find_root_loop_jited = jit(nopython=True, parallel=True, fastmath=True)(find_root_loop)\n",
    "%time find_root_loop(300000)\n",
    "%time find_root_loop_jited(300000)\n"
   ]
  },
  {
   "cell_type": "code",
   "execution_count": null,
   "metadata": {},
   "outputs": [],
   "source": [
    "from numba import jit\n",
    "import numba as nb\n",
    "from tele_geo_jit import z1, m1_into_tele\n",
    "z1_jit = jit(nopython=True, parallel=True, fastmath=True)(z1)\n",
    "m1_into_tele_jit =  jit(nopython=True, fastmath=True)(m1_into_tele)\n",
    "\n",
    "def z1_loop(iter):\n",
    "    for i in nb.prange(iter):\n",
    "        x = np.random.random()\n",
    "        y = np.random.random()\n",
    "        z1(x, y)\n",
    "    return 0\n",
    "\n",
    "@jit(nopython=True, parallel=True, fastmath=True)\n",
    "def z1_loop_jit(iter):\n",
    "    for i in nb.prange(iter):\n",
    "        x = np.random.random()\n",
    "        y = np.random.random()\n",
    "        z1_jit(x, y)\n",
    "    return 0\n",
    "\n",
    "def m1_into_tele_loop(iter):\n",
    "    for i in nb.prange(iter):\n",
    "        x = np.random.random()\n",
    "        y = np.random.random()\n",
    "        z = np.random.random()\n",
    "        m1_into_tele(x, y, z)\n",
    "    return 0\n",
    "\n",
    "@jit(nopython=True, parallel=True, fastmath=True)\n",
    "def m1_into_tele_loop_jit(iter):\n",
    "    for i in nb.prange(iter):\n",
    "        x = np.random.random()\n",
    "        y = np.random.random()\n",
    "        z = np.random.random()\n",
    "        m1_into_tele_jit(x, y, z)\n",
    "    return 0\n"
   ]
  },
  {
   "cell_type": "code",
   "execution_count": null,
   "metadata": {},
   "outputs": [],
   "source": [
    "%time z1_loop(20000)\n",
    "%time m1_into_tele_loop(10000)"
   ]
  },
  {
   "cell_type": "code",
   "execution_count": null,
   "metadata": {},
   "outputs": [],
   "source": [
    "%time z1_loop_jit(1)\n",
    "%time m1_into_tele_loop_jit(1)\n",
    "\n",
    "%time z1_loop_jit(20000)\n",
    "%time m1_into_tele_loop_jit(10000)"
   ]
  },
  {
   "cell_type": "code",
   "execution_count": 13,
   "metadata": {},
   "outputs": [
    {
     "name": "stdout",
     "output_type": "stream",
     "text": [
      "[0.         1.33333333 2.66666667 4.         0.         1.33333333\n",
      " 2.66666667 4.         0.         1.33333333 2.66666667 4.\n",
      " 0.         1.33333333 2.66666667 4.        ]\n",
      "[0.         1.33333333 2.66666667 4.         0.         1.33333333\n",
      " 2.66666667 4.         0.         1.33333333 2.66666667 4.\n",
      " 0.         1.33333333 2.66666667 4.        ]\n",
      "[0.1 0.1 0.1 0.1 1.1 1.1 1.1 1.1 2.1 2.1 2.1 2.1 3.1 3.1 3.1 3.1]\n",
      "[0.1 0.1 0.1 0.1 1.1 1.1 1.1 1.1 2.1 2.1 2.1 2.1 3.1 3.1 3.1 3.1]\n",
      "Wall time: 5 ms\n",
      "Wall time: 4 ms\n"
     ]
    }
   ],
   "source": [
    "import numpy as np\n",
    "import numba as nb\n",
    "from numba import jit\n",
    "\n",
    "# @jit(nopython=True, parallel=True, fastmath=True)\n",
    "def generate_theta_phi_array(theta_a, theta_b, theta_N, phi_a, phi_b, phi_N):\n",
    "    theta = np.linspace(theta_a, theta_b, theta_N)\n",
    "    phi = np.linspace(phi_a, phi_b, phi_N)\n",
    "    theta = theta.repeat(theta_N).reshape((theta_N, theta_N)).T.flatten()\n",
    "    phi = phi.repeat(phi_N)\n",
    "    return theta, phi\n",
    "generate_theta_phi_array_jit = jit(nopython=True, parallel=True, fastmath=True)(generate_theta_phi_array)\n",
    "\n",
    "theta_a, theta_b, theta_N = 0, 4, 4\n",
    "phi_a, phi_b, phi_N = 0.1, 3.1, 4\n",
    "theta, phi = generate_theta_phi_array(theta_a, theta_b, theta_N, phi_a, phi_b, phi_N)\n",
    "theta, phi = generate_theta_phi_array_jit(theta_a, theta_b, theta_N, phi_a, phi_b, phi_N)\n",
    "\n",
    "\n",
    "theta_orig = np.linspace(theta_a, theta_b, theta_N)\n",
    "phi_orig = np.linspace(phi_a, phi_b, phi_N)\n",
    "theta_orig, phi_orig = np.meshgrid(theta_orig, phi_orig)\n",
    "theta_orig = np.ravel(theta_orig)\n",
    "phi_orig = np.ravel(phi_orig)\n",
    "\n",
    "assert theta_orig.all() == theta.all()\n",
    "assert phi_orig.all() == phi.all()\n",
    "print(theta_orig)\n",
    "print(theta)\n",
    "print(phi_orig)\n",
    "print(phi)\n",
    "\n",
    "theta_a, theta_b, theta_N = 0, 4, 500\n",
    "phi_a, phi_b, phi_N = 0.1, 3.1, 500\n",
    "%time theta, phi = generate_theta_phi_array(theta_a, theta_b, theta_N, phi_a, phi_b, phi_N)\n",
    "%time theta, phi = generate_theta_phi_array_jit(theta_a, theta_b, theta_N, phi_a, phi_b, phi_N)"
   ]
  },
  {
   "cell_type": "code",
   "execution_count": 6,
   "metadata": {},
   "outputs": [],
   "source": [
    "import numpy as np\n",
    "import numba as nb\n",
    "from numba import jit\n",
    "from tele_geo_jit import *\n",
    "\n",
    "@jit(nopython=True, fastmath=True)\n",
    "def root_z2(t, x_0, y_0, z_0, alpha, beta, gamma):\n",
    "    # Endpoint of ray:\n",
    "    x = x_0 + alpha * t\n",
    "    y = y_0 + beta * t\n",
    "    z = z_0 + gamma * t\n",
    "\n",
    "    # Convert to M2 r.f.\n",
    "    xm2, ym2, zm2 = tele_into_m2(x, y, z)\n",
    "\n",
    "    # Z of mirror in M2 r.f.\n",
    "    z_m2 = z2(xm2, ym2)\n",
    "    return zm2 - z_m2\n",
    "t = 133.0\n",
    "x_0, y_0, z_0, alpha, beta, gamma = 0, 0, 0, 1.2, 0.5, 0.1\n",
    "result = root_z2(t, x_0, y_0, z_0, alpha, beta, gamma)"
   ]
  },
  {
   "cell_type": "code",
   "execution_count": 18,
   "metadata": {},
   "outputs": [
    {
     "name": "stdout",
     "output_type": "stream",
     "text": [
      "nonono\n"
     ]
    }
   ],
   "source": [
    "import numpy as np\n",
    "diff = np.array([0.4e-11, 0.1e-11, 0.11e-11])\n",
    "if diff.any() < 1e-11:\n",
    "    print(\"OH Yes!\")\n",
    "else:\n",
    "    print(\"nonono\")"
   ]
  },
  {
   "cell_type": "code",
   "execution_count": null,
   "metadata": {},
   "outputs": [],
   "source": []
  }
 ],
 "metadata": {
  "interpreter": {
   "hash": "22bf0ab263026e900e1ac951975fe32b326a2774950dcd87c2df175ba2293922"
  },
  "kernelspec": {
   "display_name": "Python 3.6.13 64-bit ('holoenv': conda)",
   "language": "python",
   "name": "python3"
  },
  "language_info": {
   "codemirror_mode": {
    "name": "ipython",
    "version": 3
   },
   "file_extension": ".py",
   "mimetype": "text/x-python",
   "name": "python",
   "nbconvert_exporter": "python",
   "pygments_lexer": "ipython3",
   "version": "3.6.13"
  },
  "orig_nbformat": 4
 },
 "nbformat": 4,
 "nbformat_minor": 2
}
